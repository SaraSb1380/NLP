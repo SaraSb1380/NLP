{
 "cells": [
  {
   "cell_type": "code",
   "execution_count": 5,
   "metadata": {},
   "outputs": [],
   "source": [
    "from collections import Counter\n",
    "from nltk.tokenize import sent_tokenize, word_tokenize\n",
    "# Import WordNetLemmatizer\n",
    "from nltk.stem import WordNetLemmatizer \n",
    "from nltk.corpus import stopwords\n",
    "# Import Dictionary\n",
    "from gensim.corpora.dictionary import Dictionary \n",
    "from gensim.models.tfidfmodel import TfidfModel\n"
   ]
  },
  {
   "cell_type": "code",
   "execution_count": 37,
   "metadata": {},
   "outputs": [],
   "source": [
    "text='Space is the boundless three-dimensional extent in which objects and events have relative position and direction.[1] Physical space is often conceived in three linear dimensions, although modern physicists usually consider it, with time, to be part of a boundless four-dimensional continuum known as spacetime. The concept of space is considered to be of fundamental importance to an understanding of the physical universe. However, disagreement continues between philosophers over whether it is itself an entity, a relationship between entities, or part of a conceptual framework.'"
   ]
  },
  {
   "cell_type": "code",
   "execution_count": 38,
   "metadata": {},
   "outputs": [
    {
     "data": {
      "text/plain": [
       "['Space is the boundless three-dimensional extent in which objects and events have relative position and direction',\n",
       " '[1] Physical space is often conceived in three linear dimensions, although modern physicists usually consider it, with time, to be part of a boundless four-dimensional continuum known as spacetime',\n",
       " ' The concept of space is considered to be of fundamental importance to an understanding of the physical universe',\n",
       " ' However, disagreement continues between philosophers over whether it is itself an entity, a relationship between entities, or part of a conceptual framework',\n",
       " '']"
      ]
     },
     "execution_count": 38,
     "metadata": {},
     "output_type": "execute_result"
    }
   ],
   "source": [
    "text=text.split('.')\n",
    "text"
   ]
  },
  {
   "cell_type": "code",
   "execution_count": 57,
   "metadata": {},
   "outputs": [
    {
     "data": {
      "text/plain": [
       "['space',\n",
       " 'is',\n",
       " 'the',\n",
       " 'boundless',\n",
       " 'three-dimensional',\n",
       " 'extent',\n",
       " 'in',\n",
       " 'which',\n",
       " 'objects',\n",
       " 'and',\n",
       " 'events',\n",
       " 'have',\n",
       " 'relative',\n",
       " 'position',\n",
       " 'and',\n",
       " 'direction']"
      ]
     },
     "execution_count": 57,
     "metadata": {},
     "output_type": "execute_result"
    }
   ],
   "source": [
    "# word-tokenize \n",
    "articles = [word_tokenize(t.lower()) for t in text]\n",
    "articles[0]"
   ]
  },
  {
   "cell_type": "code",
   "execution_count": 58,
   "metadata": {},
   "outputs": [],
   "source": [
    "# Create a Dictionary from the articles: dictionary\n",
    "dictionary = Dictionary (articles)\n",
    "\n"
   ]
  },
  {
   "cell_type": "code",
   "execution_count": 59,
   "metadata": {},
   "outputs": [],
   "source": [
    "# Create a MmCorpus: corpus, \n",
    "# doc2bow(article): create a list of tokens' id and their frequency in each article. \n",
    "# tokens in each article sort alphabeticlaly and take id increasingly. If one token has taken id in the last articles, \n",
    "# it used the same id\n",
    "corpus = [dictionary.doc2bow(article) for article in articles]"
   ]
  },
  {
   "cell_type": "code",
   "execution_count": 20,
   "metadata": {},
   "outputs": [
    {
     "data": {
      "text/plain": [
       "[(7, 1),\n",
       " (11, 1),\n",
       " (12, 2),\n",
       " (22, 1),\n",
       " (32, 3),\n",
       " (35, 1),\n",
       " (40, 2),\n",
       " (43, 1),\n",
       " (44, 1),\n",
       " (45, 1),\n",
       " (46, 1),\n",
       " (47, 1),\n",
       " (48, 1),\n",
       " (49, 1)]"
      ]
     },
     "execution_count": 20,
     "metadata": {},
     "output_type": "execute_result"
    }
   ],
   "source": [
    "doc=corpus[2]\n",
    "doc"
   ]
  },
  {
   "cell_type": "code",
   "execution_count": 21,
   "metadata": {},
   "outputs": [],
   "source": [
    "# Create a new TfidfModel using the corpus: tfidf\n",
    "tfidf = TfidfModel(corpus)"
   ]
  },
  {
   "cell_type": "code",
   "execution_count": 22,
   "metadata": {},
   "outputs": [],
   "source": [
    "# Calculate the tfidf weights of doc: tfidf_weights\n",
    "tfidf_weights = tfidf[doc]"
   ]
  },
  {
   "cell_type": "code",
   "execution_count": 23,
   "metadata": {},
   "outputs": [
    {
     "name": "stdout",
     "output_type": "stream",
     "text": [
      "[(7, 0.042601065969828954), (11, 0.09752339231390646), (12, 0.3498641272509675), (22, 0.17493206362548375), (32, 0.2925701769417194)]\n"
     ]
    }
   ],
   "source": [
    "# Print the first five weights\n",
    "print(tfidf_weights[:5])\n"
   ]
  },
  {
   "cell_type": "code",
   "execution_count": 29,
   "metadata": {},
   "outputs": [],
   "source": [
    "# sort the tfidf weights of doc from highest to lowest\n",
    "sorted_tfidf_weights=sorted(tfidf_weights,key= lambda x:x[1], reverse=True)"
   ]
  },
  {
   "cell_type": "code",
   "execution_count": 61,
   "metadata": {},
   "outputs": [
    {
     "name": "stdout",
     "output_type": "stream",
     "text": [
      "the 0.3498641272509675\n",
      "to 0.3498641272509675\n",
      "concept 0.30726306128113845\n",
      "considered 0.30726306128113845\n",
      "fundamental 0.30726306128113845\n"
     ]
    }
   ],
   "source": [
    "\n",
    "# Print the top 5 weighted words\n",
    "for term_id, weight in sorted_tfidf_weights[:5]:\n",
    "    print(dictionary.get(term_id),weight)"
   ]
  },
  {
   "cell_type": "code",
   "execution_count": null,
   "metadata": {},
   "outputs": [],
   "source": []
  }
 ],
 "metadata": {
  "kernelspec": {
   "display_name": "Python 3",
   "language": "python",
   "name": "python3"
  },
  "language_info": {
   "codemirror_mode": {
    "name": "ipython",
    "version": 3
   },
   "file_extension": ".py",
   "mimetype": "text/x-python",
   "name": "python",
   "nbconvert_exporter": "python",
   "pygments_lexer": "ipython3",
   "version": "3.7.4"
  }
 },
 "nbformat": 4,
 "nbformat_minor": 2
}
