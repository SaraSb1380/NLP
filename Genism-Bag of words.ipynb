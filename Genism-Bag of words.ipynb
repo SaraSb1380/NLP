{
 "cells": [
  {
   "cell_type": "code",
   "execution_count": 16,
   "metadata": {},
   "outputs": [],
   "source": [
    "from collections import Counter\n",
    "from nltk.tokenize import sent_tokenize, word_tokenize\n",
    "# Import WordNetLemmatizer\n",
    "from nltk.stem import WordNetLemmatizer \n",
    "from nltk.corpus import stopwords\n",
    "# Import Dictionary\n",
    "from gensim.corpora.dictionary import Dictionary \n"
   ]
  },
  {
   "cell_type": "code",
   "execution_count": 29,
   "metadata": {},
   "outputs": [],
   "source": [
    "# https://en.wikipedia.org/wiki/Space\n",
    "text='Space is the boundless three-dimensional extent in which objects and events have relative position and direction.[1] Physical space is often conceived in three linear dimensions, although modern physicists usually consider it, with time, to be part of a boundless four-dimensional continuum known as spacetime. The concept of space is considered to be of fundamental importance to an understanding of the physical universe. However, disagreement continues between philosophers over whether it is itself an entity, a relationship between entities, or part of a conceptual framework.'"
   ]
  },
  {
   "cell_type": "code",
   "execution_count": 30,
   "metadata": {},
   "outputs": [
    {
     "data": {
      "text/plain": [
       "['Space is the boundless three-dimensional extent in which objects and events have relative position and direction',\n",
       " '[1] Physical space is often conceived in three linear dimensions, although modern physicists usually consider it, with time, to be part of a boundless four-dimensional continuum known as spacetime',\n",
       " ' The concept of space is considered to be of fundamental importance to an understanding of the physical universe',\n",
       " ' However, disagreement continues between philosophers over whether it is itself an entity, a relationship between entities, or part of a conceptual framework',\n",
       " '']"
      ]
     },
     "execution_count": 30,
     "metadata": {},
     "output_type": "execute_result"
    }
   ],
   "source": [
    "text=text.split('.')\n",
    "text"
   ]
  },
  {
   "cell_type": "code",
   "execution_count": null,
   "metadata": {},
   "outputs": [],
   "source": []
  },
  {
   "cell_type": "code",
   "execution_count": 58,
   "metadata": {},
   "outputs": [
    {
     "data": {
      "text/plain": [
       "['space',\n",
       " 'is',\n",
       " 'the',\n",
       " 'boundless',\n",
       " 'three-dimensional',\n",
       " 'extent',\n",
       " 'in',\n",
       " 'which',\n",
       " 'objects',\n",
       " 'and',\n",
       " 'events',\n",
       " 'have',\n",
       " 'relative',\n",
       " 'position',\n",
       " 'and',\n",
       " 'direction']"
      ]
     },
     "execution_count": 58,
     "metadata": {},
     "output_type": "execute_result"
    }
   ],
   "source": [
    "# Remove all stop words: no_stops\n",
    "english_stops=stopwords.words('english')\n",
    "articles = [word_tokenize(t.lower()) for t in text if t not in english_stops]\n",
    "articles[0]"
   ]
  },
  {
   "cell_type": "code",
   "execution_count": 37,
   "metadata": {},
   "outputs": [
    {
     "data": {
      "text/plain": [
       "<gensim.corpora.dictionary.Dictionary at 0x7fd7d709d3d0>"
      ]
     },
     "execution_count": 37,
     "metadata": {},
     "output_type": "execute_result"
    }
   ],
   "source": [
    "# Create a Dictionary from the articles: dictionary\n",
    "dictionary = Dictionary (articles)\n"
   ]
  },
  {
   "cell_type": "code",
   "execution_count": 38,
   "metadata": {},
   "outputs": [
    {
     "data": {
      "text/plain": [
       "{'and': 0,\n",
       " 'boundless': 1,\n",
       " 'direction': 2,\n",
       " 'events': 3,\n",
       " 'extent': 4,\n",
       " 'have': 5,\n",
       " 'in': 6,\n",
       " 'is': 7,\n",
       " 'objects': 8,\n",
       " 'position': 9,\n",
       " 'relative': 10,\n",
       " 'space': 11,\n",
       " 'the': 12,\n",
       " 'three-dimensional': 13,\n",
       " 'which': 14,\n",
       " ',': 15,\n",
       " '1': 16,\n",
       " '[': 17,\n",
       " ']': 18,\n",
       " 'a': 19,\n",
       " 'although': 20,\n",
       " 'as': 21,\n",
       " 'be': 22,\n",
       " 'conceived': 23,\n",
       " 'consider': 24,\n",
       " 'continuum': 25,\n",
       " 'dimensions': 26,\n",
       " 'four-dimensional': 27,\n",
       " 'it': 28,\n",
       " 'known': 29,\n",
       " 'linear': 30,\n",
       " 'modern': 31,\n",
       " 'of': 32,\n",
       " 'often': 33,\n",
       " 'part': 34,\n",
       " 'physical': 35,\n",
       " 'physicists': 36,\n",
       " 'spacetime': 37,\n",
       " 'three': 38,\n",
       " 'time': 39,\n",
       " 'to': 40,\n",
       " 'usually': 41,\n",
       " 'with': 42,\n",
       " 'an': 43,\n",
       " 'concept': 44,\n",
       " 'considered': 45,\n",
       " 'fundamental': 46,\n",
       " 'importance': 47,\n",
       " 'understanding': 48,\n",
       " 'universe': 49,\n",
       " 'between': 50,\n",
       " 'conceptual': 51,\n",
       " 'continues': 52,\n",
       " 'disagreement': 53,\n",
       " 'entities': 54,\n",
       " 'entity': 55,\n",
       " 'framework': 56,\n",
       " 'however': 57,\n",
       " 'itself': 58,\n",
       " 'or': 59,\n",
       " 'over': 60,\n",
       " 'philosophers': 61,\n",
       " 'relationship': 62,\n",
       " 'whether': 63}"
      ]
     },
     "execution_count": 38,
     "metadata": {},
     "output_type": "execute_result"
    }
   ],
   "source": [
    "# create a dictionary of tokens and tokens' id and \n",
    "dictionary.token2id"
   ]
  },
  {
   "cell_type": "code",
   "execution_count": 52,
   "metadata": {},
   "outputs": [
    {
     "data": {
      "text/plain": [
       "44"
      ]
     },
     "execution_count": 52,
     "metadata": {},
     "output_type": "execute_result"
    }
   ],
   "source": [
    "\n",
    "# Select the id for 'concept': 'concept'_id, \n",
    "# get():returns tokens from ids\n",
    "concept_id = dictionary.token2id.get('concept')\n",
    "concept_id"
   ]
  },
  {
   "cell_type": "code",
   "execution_count": 53,
   "metadata": {},
   "outputs": [
    {
     "name": "stdout",
     "output_type": "stream",
     "text": [
      "concept\n"
     ]
    }
   ],
   "source": [
    "# Use computer_id with the dictionary to print the word\n",
    "print(dictionary.get(concept_id))"
   ]
  },
  {
   "cell_type": "code",
   "execution_count": 62,
   "metadata": {},
   "outputs": [],
   "source": [
    "# Create a MmCorpus: corpus, \n",
    "# doc2bow(article): create a list of tokens' id and their frequency in each article. \n",
    "# tokens in each article sort alphabeticlaly and take id increasingly. If one token has taken id in the last articles, \n",
    "# it used the same id\n",
    "corpus = [dictionary.doc2bow(article) for article in articles]"
   ]
  },
  {
   "cell_type": "code",
   "execution_count": 95,
   "metadata": {},
   "outputs": [
    {
     "name": "stdout",
     "output_type": "stream",
     "text": [
      "[(7, 1), (15, 3), (19, 2), (28, 1), (32, 1), (34, 1), (43, 1), (50, 2), (51, 1), (52, 1), (53, 1), (54, 1), (55, 1), (56, 1), (57, 1), (58, 1), (59, 1), (60, 1), (61, 1), (62, 1), (63, 1)]\n"
     ]
    }
   ],
   "source": [
    "# Print the first 5 word ids with their frequency counts from the fifth document\n",
    "print(corpus[3])\n"
   ]
  },
  {
   "cell_type": "code",
   "execution_count": 98,
   "metadata": {},
   "outputs": [
    {
     "data": {
      "text/plain": [
       "[(15, 3), (19, 2), (50, 2), (7, 1), (28, 1)]"
      ]
     },
     "execution_count": 98,
     "metadata": {},
     "output_type": "execute_result"
    }
   ],
   "source": [
    "bow_doc=sorted(corpus[3],key=lambda w:w[1],reverse=True)\n",
    "bow_doc[:5]"
   ]
  },
  {
   "cell_type": "code",
   "execution_count": 94,
   "metadata": {},
   "outputs": [
    {
     "name": "stdout",
     "output_type": "stream",
     "text": [
      ", 3\n",
      "a 2\n",
      "between 2\n",
      "is 1\n",
      "it 1\n"
     ]
    }
   ],
   "source": [
    "\n",
    "# Print the top 5 words of the document alongside the count\n",
    "for word_id, word_count in bow_doc[:5]:\n",
    "    print(dictionary.get(word_id), word_count)\n",
    "\n"
   ]
  },
  {
   "cell_type": "code",
   "execution_count": 119,
   "metadata": {},
   "outputs": [],
   "source": [
    "    \n",
    "# Create the defaultdict: word_id,total_word_count\n",
    "import itertools\n",
    "from collections import defaultdict\n",
    "total_word_count = defaultdict(int)\n",
    "for word_id, word_count in itertools.chain.from_iterable(corpus):\n",
    "    total_word_count[word_id] += word_count"
   ]
  },
  {
   "cell_type": "code",
   "execution_count": 123,
   "metadata": {},
   "outputs": [
    {
     "data": {
      "text/plain": [
       "defaultdict(int,\n",
       "            {0: 2,\n",
       "             1: 2,\n",
       "             2: 1,\n",
       "             3: 1,\n",
       "             4: 1,\n",
       "             5: 1,\n",
       "             6: 2,\n",
       "             7: 4,\n",
       "             8: 1,\n",
       "             9: 1,\n",
       "             10: 1,\n",
       "             11: 3,\n",
       "             12: 3,\n",
       "             13: 1,\n",
       "             14: 1,\n",
       "             15: 6,\n",
       "             16: 1,\n",
       "             17: 1,\n",
       "             18: 1,\n",
       "             19: 3,\n",
       "             20: 1,\n",
       "             21: 1,\n",
       "             22: 2,\n",
       "             23: 1,\n",
       "             24: 1,\n",
       "             25: 1,\n",
       "             26: 1,\n",
       "             27: 1,\n",
       "             28: 2,\n",
       "             29: 1,\n",
       "             30: 1,\n",
       "             31: 1,\n",
       "             32: 5,\n",
       "             33: 1,\n",
       "             34: 2,\n",
       "             35: 2,\n",
       "             36: 1,\n",
       "             37: 1,\n",
       "             38: 1,\n",
       "             39: 1,\n",
       "             40: 3,\n",
       "             41: 1,\n",
       "             42: 1,\n",
       "             43: 2,\n",
       "             44: 1,\n",
       "             45: 1,\n",
       "             46: 1,\n",
       "             47: 1,\n",
       "             48: 1,\n",
       "             49: 1,\n",
       "             50: 2,\n",
       "             51: 1,\n",
       "             52: 1,\n",
       "             53: 1,\n",
       "             54: 1,\n",
       "             55: 1,\n",
       "             56: 1,\n",
       "             57: 1,\n",
       "             58: 1,\n",
       "             59: 1,\n",
       "             60: 1,\n",
       "             61: 1,\n",
       "             62: 1,\n",
       "             63: 1})"
      ]
     },
     "execution_count": 123,
     "metadata": {},
     "output_type": "execute_result"
    }
   ],
   "source": [
    "total_word_count"
   ]
  },
  {
   "cell_type": "code",
   "execution_count": 132,
   "metadata": {},
   "outputs": [
    {
     "data": {
      "text/plain": [
       "[(15, 6), (32, 5), (7, 4), (11, 3), (12, 3)]"
      ]
     },
     "execution_count": 132,
     "metadata": {},
     "output_type": "execute_result"
    }
   ],
   "source": [
    "    \n",
    "# Create a sorted list from the defaultdict: sorted_word_count\n",
    "# total_word_count.items(): return the key-value pair of a dictionary as tuples of a list\n",
    "sorted_word_count = sorted(total_word_count.items(), key=lambda w: w[1], reverse=True) \n",
    "sorted_word_count[:5]"
   ]
  },
  {
   "cell_type": "code",
   "execution_count": 134,
   "metadata": {},
   "outputs": [
    {
     "name": "stdout",
     "output_type": "stream",
     "text": [
      ", 6\n",
      "of 5\n",
      "is 4\n",
      "space 3\n",
      "the 3\n"
     ]
    }
   ],
   "source": [
    "# Print the top 5 words across all documents alongside the count\n",
    "for word_id, word_totalcount  in sorted_word_count[:5]:\n",
    "    print(dictionary.get(word_id), word_totalcount)"
   ]
  }
 ],
 "metadata": {
  "kernelspec": {
   "display_name": "Python 3",
   "language": "python",
   "name": "python3"
  },
  "language_info": {
   "codemirror_mode": {
    "name": "ipython",
    "version": 3
   },
   "file_extension": ".py",
   "mimetype": "text/x-python",
   "name": "python",
   "nbconvert_exporter": "python",
   "pygments_lexer": "ipython3",
   "version": "3.7.4"
  }
 },
 "nbformat": 4,
 "nbformat_minor": 2
}
