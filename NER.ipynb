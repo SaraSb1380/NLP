{
 "cells": [
  {
   "cell_type": "code",
   "execution_count": 1,
   "metadata": {},
   "outputs": [],
   "source": [
    "import nltk\n",
    "from nltk.tokenize import sent_tokenize, word_tokenize\n",
    "\n"
   ]
  },
  {
   "cell_type": "code",
   "execution_count": 3,
   "metadata": {},
   "outputs": [],
   "source": [
    "article='SCENE 1: [wind] [clop clop clop] KING ARTHUR: Whoa there!  [clop clop clop] SOLDIER #1: Halt!  Who goes there? ARTHUR: It is I, Arthur, son of Uther Pendragon, from the castle of Camelot.  King of the Britons, defeator of the Saxons, sovereign of all England!SOLDIER #1: Pull the other one! ARTHUR: I am, ...  and this is my trusty servant Patsy.  We have ridden the length and breadth of the land in search of knights who will join me in my court at Camelot.  I must speak with your lord and master.SOLDIER #1: What?  Ridden on a horse? ARTHUR: Yes!'\n",
    "\n"
   ]
  },
  {
   "cell_type": "code",
   "execution_count": 4,
   "metadata": {},
   "outputs": [],
   "source": [
    "# Tokenize the article into sentences: sentences\n",
    "sentences = sent_tokenize(article)\n",
    "\n"
   ]
  },
  {
   "cell_type": "code",
   "execution_count": 5,
   "metadata": {},
   "outputs": [],
   "source": [
    "\n",
    "# Tokenize each sentence into words: token_sentences\n",
    "token_sentences = [word_tokenize(sent) for sent in sentences]\n",
    "\n"
   ]
  },
  {
   "cell_type": "code",
   "execution_count": 6,
   "metadata": {},
   "outputs": [
    {
     "name": "stdout",
     "output_type": "stream",
     "text": [
      "[[('SCENE', 'NN'), ('1', 'CD'), (':', ':'), ('[', 'NN'), ('wind', 'IN'), (']', 'JJ'), ('[', 'NNP'), ('clop', 'NN'), ('clop', 'NN'), ('clop', 'NN'), (']', 'NNP'), ('KING', 'NNP'), ('ARTHUR', 'NNP'), (':', ':'), ('Whoa', 'NNP'), ('there', 'EX'), ('!', '.')], [('[', 'NN'), ('clop', 'NN'), ('clop', 'NN'), ('clop', 'NN'), (']', 'NNP'), ('SOLDIER', 'NNP'), ('#', '#'), ('1', 'CD'), (':', ':'), ('Halt', 'NN'), ('!', '.')], [('Who', 'WP'), ('goes', 'VBZ'), ('there', 'RB'), ('?', '.')], [('ARTHUR', 'NN'), (':', ':'), ('It', 'PRP'), ('is', 'VBZ'), ('I', 'PRP'), (',', ','), ('Arthur', 'NNP'), (',', ','), ('son', 'NN'), ('of', 'IN'), ('Uther', 'NNP'), ('Pendragon', 'NNP'), (',', ','), ('from', 'IN'), ('the', 'DT'), ('castle', 'NN'), ('of', 'IN'), ('Camelot', 'NNP'), ('.', '.')], [('King', 'NNP'), ('of', 'IN'), ('the', 'DT'), ('Britons', 'NNP'), (',', ','), ('defeator', 'NN'), ('of', 'IN'), ('the', 'DT'), ('Saxons', 'NNP'), (',', ','), ('sovereign', 'NN'), ('of', 'IN'), ('all', 'DT'), ('England', 'NNP'), ('!', '.'), ('SOLDIER', 'NNP'), ('#', '#'), ('1', 'CD'), (':', ':'), ('Pull', 'VB'), ('the', 'DT'), ('other', 'JJ'), ('one', 'CD'), ('!', '.')], [('ARTHUR', 'NNP'), (':', ':'), ('I', 'PRP'), ('am', 'VBP'), (',', ','), ('...', ':'), ('and', 'CC'), ('this', 'DT'), ('is', 'VBZ'), ('my', 'PRP$'), ('trusty', 'JJ'), ('servant', 'JJ'), ('Patsy', 'NNP'), ('.', '.')], [('We', 'PRP'), ('have', 'VBP'), ('ridden', 'VBN'), ('the', 'DT'), ('length', 'NN'), ('and', 'CC'), ('breadth', 'NN'), ('of', 'IN'), ('the', 'DT'), ('land', 'NN'), ('in', 'IN'), ('search', 'NN'), ('of', 'IN'), ('knights', 'NNS'), ('who', 'WP'), ('will', 'MD'), ('join', 'VB'), ('me', 'PRP'), ('in', 'IN'), ('my', 'PRP$'), ('court', 'NN'), ('at', 'IN'), ('Camelot', 'NNP'), ('.', '.')], [('I', 'PRP'), ('must', 'MD'), ('speak', 'VB'), ('with', 'IN'), ('your', 'PRP$'), ('lord', 'NN'), ('and', 'CC'), ('master.SOLDIER', 'NN'), ('#', '#'), ('1', 'CD'), (':', ':'), ('What', 'WP'), ('?', '.')], [('Ridden', 'NNP'), ('on', 'IN'), ('a', 'DT'), ('horse', 'NN'), ('?', '.')], [('ARTHUR', 'NNP'), (':', ':'), ('Yes', 'UH'), ('!', '.')]]\n"
     ]
    }
   ],
   "source": [
    "# Tag each tokenized sentence into parts of speech: pos_sentences\n",
    "pos_sentences = [nltk.pos_tag(sent) for sent in token_sentences] \n",
    "print(pos_sentences)\n",
    "\n"
   ]
  }
 ],
 "metadata": {
  "kernelspec": {
   "display_name": "Python 3",
   "language": "python",
   "name": "python3"
  },
  "language_info": {
   "codemirror_mode": {
    "name": "ipython",
    "version": 3
   },
   "file_extension": ".py",
   "mimetype": "text/x-python",
   "name": "python",
   "nbconvert_exporter": "python",
   "pygments_lexer": "ipython3",
   "version": "3.7.4"
  }
 },
 "nbformat": 4,
 "nbformat_minor": 2
}
